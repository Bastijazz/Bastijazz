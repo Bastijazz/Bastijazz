{
 "cells": [
  {
   "cell_type": "code",
   "execution_count": 1,
   "id": "499efaa6-7d8d-40c9-87a4-c4ee1dbd9169",
   "metadata": {
    "tags": []
   },
   "outputs": [
    {
     "name": "stdout",
     "output_type": "stream",
     "text": [
      "Hello World\n"
     ]
    }
   ],
   "source": [
    "print (\"Hello World\")"
   ]
  },
  {
   "cell_type": "code",
   "execution_count": null,
   "id": "a5cd471a-1a12-4106-b432-74f00ebefbbe",
   "metadata": {},
   "outputs": [],
   "source": [
    "var = 99"
   ]
  },
  {
   "cell_type": "code",
   "execution_count": null,
   "id": "54dc778c-41a2-4c4c-b424-489fde7e5fe4",
   "metadata": {},
   "outputs": [],
   "source": [
    "myname = \"Bastian\"\n",
    "print(myname)\n"
   ]
  },
  {
   "cell_type": "code",
   "execution_count": 2,
   "id": "da4617c9-38de-4420-ade6-4201e85297e2",
   "metadata": {
    "tags": []
   },
   "outputs": [
    {
     "data": {
      "text/plain": [
       "'Yes I am'"
      ]
     },
     "execution_count": 2,
     "metadata": {},
     "output_type": "execute_result"
    }
   ],
   "source": [
    "my_name = \"Bastian\"\n",
    "first_name = \"Bastian\"\n",
    "my,name = \"Yes I am\", \"Bastian\"\n",
    "my # print(my)\n"
   ]
  },
  {
   "cell_type": "code",
   "execution_count": null,
   "id": "ca2e1c69-60a2-40be-905a-e51fee577856",
   "metadata": {},
   "outputs": [],
   "source": []
  }
 ],
 "metadata": {
  "kernelspec": {
   "display_name": "Python 3 (ipykernel)",
   "language": "python",
   "name": "python3"
  },
  "language_info": {
   "codemirror_mode": {
    "name": "ipython",
    "version": 3
   },
   "file_extension": ".py",
   "mimetype": "text/x-python",
   "name": "python",
   "nbconvert_exporter": "python",
   "pygments_lexer": "ipython3",
   "version": "3.9.12"
  }
 },
 "nbformat": 4,
 "nbformat_minor": 5
}
