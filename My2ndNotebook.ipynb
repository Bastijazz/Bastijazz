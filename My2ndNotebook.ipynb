{
 "cells": [
  {
   "cell_type": "markdown",
   "id": "c51dc563-eb5a-4e41-acd8-f5a4c69cb6d3",
   "metadata": {},
   "source": [
    "### List"
   ]
  },
  {
   "cell_type": "code",
   "execution_count": 1,
   "id": "288941bd-a945-4111-855b-3613e97206bb",
   "metadata": {
    "tags": []
   },
   "outputs": [
    {
     "name": "stdout",
     "output_type": "stream",
     "text": [
      "<class 'list'>\n"
     ]
    }
   ],
   "source": [
    "list1 = [] # Empty list\n",
    "print (type(list1))"
   ]
  },
  {
   "cell_type": "code",
   "execution_count": 2,
   "id": "597726d4-fa3a-4bbd-a4e4-da7906556a3f",
   "metadata": {
    "tags": []
   },
   "outputs": [
    {
     "name": "stdout",
     "output_type": "stream",
     "text": [
      "[10, 20, 30]\n"
     ]
    }
   ],
   "source": [
    "list2 = [10, 20, 30] # List of integers numbers\n",
    "print(list2)"
   ]
  },
  {
   "cell_type": "code",
   "execution_count": 3,
   "id": "51ca4e6b-4462-4837-ab7b-1d693725631c",
   "metadata": {
    "tags": []
   },
   "outputs": [
    {
     "name": "stdout",
     "output_type": "stream",
     "text": [
      "[10.77, 39.54, 75.23]\n"
     ]
    }
   ],
   "source": [
    "list3 = [10.77, 39.54, 75.23]\n",
    "print(list3)"
   ]
  },
  {
   "cell_type": "code",
   "execution_count": 4,
   "id": "99c8710e-e523-4064-824b-9483bb6f996d",
   "metadata": {
    "tags": []
   },
   "outputs": [
    {
     "name": "stdout",
     "output_type": "stream",
     "text": [
      "['one', 'two', 'fifty']\n"
     ]
    }
   ],
   "source": [
    "\n",
    "list4 = ['one', 'two', 'fifty']\n",
    "print(list4)"
   ]
  },
  {
   "cell_type": "markdown",
   "id": "dd0c6284-a99a-4452-af3f-ae20a2a863b1",
   "metadata": {
    "tags": []
   },
   "source": [
    "## Nested List"
   ]
  },
  {
   "cell_type": "code",
   "execution_count": 6,
   "id": "460f4ab5-2459-4e83-abe9-482a3c063106",
   "metadata": {
    "tags": []
   },
   "outputs": [
    {
     "name": "stdout",
     "output_type": "stream",
     "text": [
      "['Bastian', '22', ['one', 'two'], 1.34, 500, 32]\n"
     ]
    }
   ],
   "source": [
    "list5 = [\"Bastian\", \"22\", ['one', 'two'], 1.34, 500.32] # Nested\n",
    "print(list5)"
   ]
  },
  {
   "cell_type": "code",
   "execution_count": 8,
   "id": "72922374-c4ae-4627-b0b7-7d3fdc18f0e0",
   "metadata": {
    "tags": []
   },
   "outputs": [
    {
     "name": "stdout",
     "output_type": "stream",
     "text": [
      "6\n"
     ]
    }
   ],
   "source": [
    "print(len(list5))"
   ]
  },
  {
   "cell_type": "code",
   "execution_count": 9,
   "id": "11a3967b-5328-41bb-be2d-b124180b0866",
   "metadata": {
    "tags": []
   },
   "outputs": [
    {
     "name": "stdout",
     "output_type": "stream",
     "text": [
      "Bastian\n",
      "22\n",
      "['one', 'two']\n",
      "1.34\n"
     ]
    }
   ],
   "source": [
    "print(list5[0])\n",
    "print(list5[1])\n",
    "print(list5[2])\n",
    "print(list5[3])"
   ]
  },
  {
   "cell_type": "markdown",
   "id": "86462116-242c-49a4-a852-a58724a7eba1",
   "metadata": {},
   "source": [
    "### List Indexing"
   ]
  },
  {
   "cell_type": "code",
   "execution_count": 11,
   "id": "d1357128-54e1-480a-bd41-a88eff51e439",
   "metadata": {
    "tags": []
   },
   "outputs": [
    {
     "name": "stdout",
     "output_type": "stream",
     "text": [
      "Bastian\n",
      "22\n",
      "['one', 'two']\n",
      "1.34\n",
      "32\n"
     ]
    }
   ],
   "source": [
    "print(list5[0])\n",
    "print(list5[1])\n",
    "print(list5[2])\n",
    "print(list5[3])\n",
    "print(list5[-1])"
   ]
  },
  {
   "cell_type": "markdown",
   "id": "5a4d8a1d-782b-43b3-afd1-536ae5c50f09",
   "metadata": {},
   "source": [
    "# List Slicing"
   ]
  },
  {
   "cell_type": "code",
   "execution_count": 13,
   "id": "63df5bff-a3fb-4e70-81da-6f3baa6e7ec0",
   "metadata": {
    "tags": []
   },
   "outputs": [],
   "source": [
    "mylist = ['one', 'two', 'three', 'four', 'five', 'six', 'seven', 'eight']"
   ]
  },
  {
   "cell_type": "code",
   "execution_count": 15,
   "id": "dc25b26f-1e6d-4175-8a7a-da026e3e2332",
   "metadata": {
    "tags": []
   },
   "outputs": [
    {
     "name": "stdout",
     "output_type": "stream",
     "text": [
      "['one', 'two', 'three']\n"
     ]
    }
   ],
   "source": [
    "print(mylist[0:3])"
   ]
  },
  {
   "cell_type": "code",
   "execution_count": 16,
   "id": "3d74d196-8502-4a25-803c-8d88f62d6fad",
   "metadata": {
    "tags": []
   },
   "outputs": [
    {
     "name": "stdout",
     "output_type": "stream",
     "text": [
      "['two', 'three', 'four', 'five']\n"
     ]
    }
   ],
   "source": [
    "print(mylist[1:5])"
   ]
  },
  {
   "cell_type": "markdown",
   "id": "e8f64750-b924-4818-8311-85e1105db698",
   "metadata": {},
   "source": [
    "# Add, remove & change items of a list"
   ]
  },
  {
   "cell_type": "code",
   "execution_count": 17,
   "id": "accc94f1-53e3-4779-8172-b1fbfd85581b",
   "metadata": {
    "tags": []
   },
   "outputs": [],
   "source": [
    "mylist.append('nine')"
   ]
  },
  {
   "cell_type": "code",
   "execution_count": 18,
   "id": "110b0d7f-bc00-4f62-848c-aebce7efa389",
   "metadata": {
    "tags": []
   },
   "outputs": [
    {
     "name": "stdout",
     "output_type": "stream",
     "text": [
      "['one', 'two', 'three', 'four', 'five', 'six', 'seven', 'eight', 'nine']\n"
     ]
    }
   ],
   "source": [
    "print(mylist)"
   ]
  },
  {
   "cell_type": "code",
   "execution_count": 19,
   "id": "40da3a24-dd91-4c2b-a7c2-b3c54f36e462",
   "metadata": {
    "tags": []
   },
   "outputs": [
    {
     "name": "stdout",
     "output_type": "stream",
     "text": [
      "['one', 'one', 'two', 'three', 'four', 'five', 'six', 'seven', 'eight']\n"
     ]
    }
   ],
   "source": [
    "mylist = ['one', 'two', 'three', 'four', 'five', 'six', 'seven', 'eight']\n",
    "mylist.insert(1,\"one\")\n",
    "print(mylist)"
   ]
  },
  {
   "cell_type": "markdown",
   "id": "8c01062a-55e4-4e40-bc74-aeb34a220ce7",
   "metadata": {},
   "source": [
    "### Remove\n"
   ]
  },
  {
   "cell_type": "code",
   "execution_count": 21,
   "id": "f5620158-2426-4b79-9823-236269d325f0",
   "metadata": {
    "tags": []
   },
   "outputs": [
    {
     "name": "stdout",
     "output_type": "stream",
     "text": [
      "['one', 'two', 'three', 'four', 'five', 'seven', 'eight']\n"
     ]
    }
   ],
   "source": [
    "mylist = ['one', 'two', 'three', 'four', 'five', 'six', 'seven', 'eight']\n",
    "mylist.remove(\"six\")\n",
    "print(mylist)"
   ]
  },
  {
   "cell_type": "code",
   "execution_count": 22,
   "id": "bc7de69a-c6bb-4664-b086-51fa7566499c",
   "metadata": {
    "tags": []
   },
   "outputs": [
    {
     "name": "stdout",
     "output_type": "stream",
     "text": [
      "['one', 'two', 'three', 'Bastian', 'five', 'six', 'seven', 'eight']\n"
     ]
    }
   ],
   "source": [
    "mylist = ['one', 'two', 'three', 'four', 'five', 'six', 'seven', 'eight']\n",
    "mylist[3] = \"Bastian\"\n",
    "print(mylist)"
   ]
  },
  {
   "cell_type": "code",
   "execution_count": 23,
   "id": "180d664c-b8e2-4152-9aa6-2c5093f7396b",
   "metadata": {
    "tags": []
   },
   "outputs": [
    {
     "name": "stdout",
     "output_type": "stream",
     "text": [
      "[]\n"
     ]
    }
   ],
   "source": [
    "mylist = ['one', 'two', 'three', 'four', 'five', 'six', 'seven', 'eight']\n",
    "mylist.clear()\n",
    "print(mylist)"
   ]
  },
  {
   "cell_type": "markdown",
   "id": "c7e425d7-b680-4529-b655-caa43ab26fe9",
   "metadata": {},
   "source": [
    "# Copy list"
   ]
  },
  {
   "cell_type": "code",
   "execution_count": 26,
   "id": "08be3527-1bbb-4408-99c5-85bd9c042301",
   "metadata": {
    "tags": []
   },
   "outputs": [
    {
     "name": "stdout",
     "output_type": "stream",
     "text": [
      "['one', 'two', 'three', 'four', 'five', 'six', 'seven', 'eight']\n",
      "2043638041856\n",
      "2043638041856\n"
     ]
    }
   ],
   "source": [
    "mylist = ['one', 'two', 'three', 'four', 'five', 'six', 'seven', 'eight']\n",
    "\n",
    "mylist2 = mylist\n",
    "print(mylist2)\n",
    "print(id(mylist2))\n",
    "print(id(mylist))"
   ]
  },
  {
   "cell_type": "code",
   "execution_count": null,
   "id": "c15f5020-e450-48d1-a321-234628d34cd1",
   "metadata": {},
   "outputs": [],
   "source": [
    "### Using the equal sign will mirror, a nickname, but it's not a copy."
   ]
  },
  {
   "cell_type": "code",
   "execution_count": 27,
   "id": "99ccf6b3-cc17-4baf-95db-e7deae20b00c",
   "metadata": {
    "tags": []
   },
   "outputs": [],
   "source": [
    "mylist2 = mylist.copy()"
   ]
  },
  {
   "cell_type": "markdown",
   "id": "c8682e37-09e7-451e-8179-8737466dd8bd",
   "metadata": {},
   "source": [
    "# Join lists"
   ]
  },
  {
   "cell_type": "code",
   "execution_count": 30,
   "id": "79d8b9dd-3861-4b0e-9efe-5587ef807391",
   "metadata": {
    "tags": []
   },
   "outputs": [
    {
     "name": "stdout",
     "output_type": "stream",
     "text": [
      "['zero', 'one', 'two', 10, 20, 30]\n"
     ]
    }
   ],
   "source": [
    "list1 = [\"zero\", \"one\", \"two\"]\n",
    "list3 = [\"a\", \"b\", \"c\"]\n",
    "list3 = list1 + list2 #join\n",
    "\n",
    "print(list3)\n"
   ]
  },
  {
   "cell_type": "code",
   "execution_count": null,
   "id": "6a3d89a6-2f89-425c-a408-6bac7d48a859",
   "metadata": {},
   "outputs": [],
   "source": [
    "#List Membership\n"
   ]
  },
  {
   "cell_type": "code",
   "execution_count": 31,
   "id": "0dfd939e-142e-45ce-9453-a2d2a50274aa",
   "metadata": {
    "tags": []
   },
   "outputs": [
    {
     "name": "stdout",
     "output_type": "stream",
     "text": [
      "True\n"
     ]
    }
   ],
   "source": [
    "mylist = ['one', 'two', 'three', 'four', 'five', 'six', 'seven', 'eight']\n",
    "print('one' in mylist)\n"
   ]
  },
  {
   "cell_type": "code",
   "execution_count": null,
   "id": "657542f9-4059-415f-b262-194f98e59f17",
   "metadata": {},
   "outputs": [],
   "source": [
    "# Reverse of a list"
   ]
  },
  {
   "cell_type": "code",
   "execution_count": 32,
   "id": "f0a80023-1031-4d15-b14f-1cc834ad8e63",
   "metadata": {
    "tags": []
   },
   "outputs": [
    {
     "name": "stdout",
     "output_type": "stream",
     "text": [
      "['one', 'two', 'three', 'four', 'five', 'six', 'seven', 'eight']\n"
     ]
    }
   ],
   "source": [
    "mylist = ['one', 'two', 'three', 'four', 'five', 'six', 'seven', 'eight']\n",
    "mylist = mylist.reverse()\n",
    "print(mylist2)"
   ]
  },
  {
   "cell_type": "code",
   "execution_count": 40,
   "id": "34715b9b-3c78-459a-82a4-9df24c15d936",
   "metadata": {
    "tags": []
   },
   "outputs": [
    {
     "name": "stdout",
     "output_type": "stream",
     "text": [
      "[1, 2, 3, 4, 5, 6, 7, 8, 9, 10]\n",
      "[10, 9, 8, 7, 6, 5, 4, 3, 2, 1]\n"
     ]
    }
   ],
   "source": [
    "mynumberlist = [1,2,3,4,5,6,7,8,9,10]\n",
    "print(mynumberlist)\n",
    "\n",
    "mylist5 = mynumberlist.reverse()\n",
    "print(mynumberlist)"
   ]
  },
  {
   "cell_type": "markdown",
   "id": "e6c987b9-a64e-448f-a6d4-ad5ebf359506",
   "metadata": {},
   "source": [
    "# Loop in a list\n"
   ]
  },
  {
   "cell_type": "code",
   "execution_count": 43,
   "id": "b2a525ba-e82b-4f6b-9ad0-20cf5847fa7e",
   "metadata": {
    "tags": []
   },
   "outputs": [
    {
     "name": "stdout",
     "output_type": "stream",
     "text": [
      "['one', 'two', 'three', 'four', 'five', 'six', 'seven', 'eight']\n",
      "one\n",
      "two\n",
      "three\n",
      "four\n",
      "five\n",
      "six\n",
      "seven\n",
      "eight\n"
     ]
    }
   ],
   "source": [
    "mylist = ['one', 'two', 'three', 'four', 'five', 'six', 'seven', 'eight']\n",
    "print(mylist)\n",
    "\n",
    "for i in mylist: \n",
    "    print(i)"
   ]
  },
  {
   "cell_type": "code",
   "execution_count": 44,
   "id": "b26e985e-0594-46f1-8f67-b3175b61facb",
   "metadata": {
    "tags": []
   },
   "outputs": [
    {
     "name": "stdout",
     "output_type": "stream",
     "text": [
      "['one', 'two', 'three', 'four', 'five', 'six', 'seven', 'eight']\n",
      "(0, 'one')\n",
      "(1, 'two')\n",
      "(2, 'three')\n",
      "(3, 'four')\n",
      "(4, 'five')\n",
      "(5, 'six')\n",
      "(6, 'seven')\n",
      "(7, 'eight')\n"
     ]
    }
   ],
   "source": [
    "mylist = ['one', 'two', 'three', 'four', 'five', 'six', 'seven', 'eight']\n",
    "print(mylist)\n",
    "\n",
    "for i in enumerate(mylist): \n",
    "    print(i)"
   ]
  },
  {
   "cell_type": "markdown",
   "id": "ac842727-1015-4df1-8b7c-6fde178195ba",
   "metadata": {},
   "source": [
    "# Count occour"
   ]
  },
  {
   "cell_type": "code",
   "execution_count": 45,
   "id": "35e0db29-824c-4d38-b6db-f04ee9f78c61",
   "metadata": {
    "tags": []
   },
   "outputs": [
    {
     "name": "stdout",
     "output_type": "stream",
     "text": [
      "['one', 'two', 'three', 'four', 'five', 'six', 'seven', 'eight']\n",
      "1\n"
     ]
    }
   ],
   "source": [
    "mylist = ['one', 'two', 'three', 'four', 'five', 'six', 'seven', 'eight']\n",
    "print(mylist)\n",
    "\n",
    "print(mylist.count('four'))"
   ]
  },
  {
   "cell_type": "code",
   "execution_count": 47,
   "id": "34d6256d-c18b-4b96-96ae-69e218c91d7a",
   "metadata": {
    "tags": []
   },
   "outputs": [
    {
     "name": "stdout",
     "output_type": "stream",
     "text": [
      "['W', 'e', 'l', 'c', 'o', 'm', 'e']\n"
     ]
    }
   ],
   "source": [
    "#  List Comprehensions\n",
    "\n",
    "mystring1 = \"Welcome\"\n",
    "mystringlist = [ i for i in mystring1]\n",
    "print(mystringlist)"
   ]
  },
  {
   "cell_type": "code",
   "execution_count": 48,
   "id": "ff36645c-1a26-4d08-ac03-77683d9509e1",
   "metadata": {
    "tags": []
   },
   "outputs": [
    {
     "name": "stdout",
     "output_type": "stream",
     "text": [
      "[20, 30, 40, 50, 60, 70, 80]\n"
     ]
    }
   ],
   "source": [
    "list1 = [2,3,4,5,6,7,8]\n",
    "list2 = [i * 10 for i in list1]\n",
    "print(list2)"
   ]
  },
  {
   "cell_type": "markdown",
   "id": "bcadb022-6241-49ce-8897-f3dc38d12249",
   "metadata": {
    "tags": []
   },
   "source": [
    "# Print format"
   ]
  },
  {
   "cell_type": "code",
   "execution_count": null,
   "id": "d02bc4fa-6900-4973-b6ef-d7f10d2710ec",
   "metadata": {},
   "outputs": [],
   "source": [
    "var = 10\n",
    "\n",
    "print(f'this is my var = {var}')"
   ]
  },
  {
   "cell_type": "code",
   "execution_count": 52,
   "id": "54776755-81e6-4bd1-97e0-cf458bf8a025",
   "metadata": {
    "tags": []
   },
   "outputs": [
    {
     "name": "stdin",
     "output_type": "stream",
     "text": [
      "what is your name Bastian\n"
     ]
    },
    {
     "name": "stdout",
     "output_type": "stream",
     "text": [
      "Hello, Bastian\n"
     ]
    }
   ],
   "source": [
    "# Input\n",
    "name = input(\"what is your name\")\n",
    "print(f\"Hello, {name}\")"
   ]
  },
  {
   "cell_type": "code",
   "execution_count": null,
   "id": "7067ddf4-5670-42f0-a20c-b13db4232ecb",
   "metadata": {},
   "outputs": [],
   "source": []
  }
 ],
 "metadata": {
  "kernelspec": {
   "display_name": "Python 3 (ipykernel)",
   "language": "python",
   "name": "python3"
  },
  "language_info": {
   "codemirror_mode": {
    "name": "ipython",
    "version": 3
   },
   "file_extension": ".py",
   "mimetype": "text/x-python",
   "name": "python",
   "nbconvert_exporter": "python",
   "pygments_lexer": "ipython3",
   "version": "3.9.12"
  }
 },
 "nbformat": 4,
 "nbformat_minor": 5
}
