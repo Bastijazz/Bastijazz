   "id": "4b256eac-f8c5-4f3f-8e55-233f4999e97a",
   "metadata": {},
   "source": [
    "### In your terminal use: pip install numpy\n",
    "### More information in the website: https://numpy.org/"
   ]
  },

{
   "cell_type": "markdown",
   "id": "300722c4-e49a-422a-ba86-6290791fa787",
   "metadata": {},
   "source": [
    "## NUMPY"
   ]
  },
  {
   "cell_type": "code",
   "execution_count": 6,
   "id": "4cbc2896-f229-453e-aded-aa4bfc25095b",
   "metadata": {},
   "outputs": [
    {
     "name": "stdout",
     "output_type": "stream",
     "text": [
      "[1 2 3]\n",
      "[4 5 6]\n"
     ]
    }
   ],
   "source": [
    "import numpy as np\n",
    "\n",
    "A = np.array([1,2,3])\n",
    "B = np.array([4,5,6,7])\n",
    "\n",
    "print (A)\n",
    "print (B)\n",
    "\n"
   ]
  },
  {
   "cell_type": "code",
   "execution_count": 7,
   "id": "a93550fe-bcfd-4bf8-9f65-39b715a7a2b1",
   "metadata": {},
   "outputs": [
    {
     "data": {
      "text/plain": [
       "numpy.ndarray"
      ]
     },
     "execution_count": 7,
     "metadata": {},
     "output_type": "execute_result"
    }
   ],
   "source": [
    "type(A)"
   ]
  },
  {
   "cell_type": "code",
   "execution_count": 8,
   "id": "3ccc3841-a1a4-4244-ba45-492f815750a3",
   "metadata": {},
   "outputs": [
    {
     "name": "stdout",
     "output_type": "stream",
     "text": [
      "[1 4 9]\n"
     ]
    }
   ],
   "source": [
    "print(A**2)\n"
   ]
  },
  {
   "cell_type": "code",
   "execution_count": 9,
   "id": "d34b37e4-f1b9-4747-8f5a-e121b3ca21e3",
   "metadata": {},
   "outputs": [
    {
     "name": "stdout",
     "output_type": "stream",
     "text": [
      "[5 7 9]\n"
     ]
    }
   ],
   "source": [
    "print(A+B)\n"
   ]
  },
  {
   "cell_type": "markdown",
   "id": "8a7bdf59-9f91-45e7-a068-d096b569e245",
   "metadata": {},
   "source": [
    "## Matrix with different sizes"
   ]
  },
  {
   "cell_type": "code",
   "execution_count": 10,
   "id": "b9db813f-7ac9-400d-beef-054c88aa8f96",
   "metadata": {},
   "outputs": [
    {
     "ename": "ValueError",
     "evalue": "operands could not be broadcast together with shapes (3,) (4,) ",
     "output_type": "error",
     "traceback": [
      "\u001b[1;31m---------------------------------------------------------------------------\u001b[0m",
      "\u001b[1;31mValueError\u001b[0m                                Traceback (most recent call last)",
      "Cell \u001b[1;32mIn[10], line 6\u001b[0m\n\u001b[0;32m      3\u001b[0m A \u001b[38;5;241m=\u001b[39m np\u001b[38;5;241m.\u001b[39marray([\u001b[38;5;241m1\u001b[39m,\u001b[38;5;241m2\u001b[39m,\u001b[38;5;241m3\u001b[39m])\n\u001b[0;32m      4\u001b[0m B \u001b[38;5;241m=\u001b[39m np\u001b[38;5;241m.\u001b[39marray([\u001b[38;5;241m4\u001b[39m,\u001b[38;5;241m5\u001b[39m,\u001b[38;5;241m6\u001b[39m,\u001b[38;5;241m7\u001b[39m])\n\u001b[1;32m----> 6\u001b[0m \u001b[38;5;28mprint\u001b[39m (\u001b[43mA\u001b[49m\u001b[38;5;241;43m+\u001b[39;49m\u001b[43mB\u001b[49m)\n",
      "\u001b[1;31mValueError\u001b[0m: operands could not be broadcast together with shapes (3,) (4,) "
     ]
    }
   ],
   "source": [
    "import numpy as np\n",
    "\n",
    "A = np.array([1,2,3])\n",
    "B = np.array([4,5,6,7])\n",
    "\n",
    "print (A+B)\n",
    "\n"
   ]
  },
  {
   "cell_type": "code",
   "execution_count": 11,
   "id": "2b712f96-6e8e-40d7-bffe-02ca753ffd5d",
   "metadata": {},
   "outputs": [
    {
     "name": "stdout",
     "output_type": "stream",
     "text": [
      "[-3 -3 -3]\n"
     ]
    }
   ],
   "source": [
    "import numpy as np\n",
    "\n",
    "A = np.array([1,2,3])\n",
    "B = np.array([4,5,6])\n",
    "\n",
    "print (A-B)"
   ]
  },
  {
   "cell_type": "code",
   "execution_count": 12,
   "id": "221d2288-e055-4f6d-9873-50a8864d2e5e",
   "metadata": {},
   "outputs": [
    {
     "name": "stdout",
     "output_type": "stream",
     "text": [
      "[ 4 10 18]\n"
     ]
    }
   ],
   "source": [
    "print (A*B)"
   ]
  },
  {
   "cell_type": "code",
   "execution_count": 13,
   "id": "5717dc74-e846-465d-bcc4-2d5811670cc1",
   "metadata": {},
   "outputs": [
    {
     "name": "stdout",
     "output_type": "stream",
     "text": [
      "[0.25 0.4  0.5 ]\n"
     ]
    }
   ],
   "source": [
    "print (A/B)"
   ]
  },
  {
   "cell_type": "markdown",
   "id": "9d21930b-74e1-46f6-9621-50344f885923",
   "metadata": {},
   "source": [
    "# 2 Dimensional NumPy Array"
   ]
  },
  {
   "cell_type": "code",
   "execution_count": 19,
   "id": "cca3a5dc-4cfc-495d-baf4-1d85485aab63",
   "metadata": {},
   "outputs": [
    {
     "name": "stdout",
     "output_type": "stream",
     "text": [
      "[[1 2 3]\n",
      " [4 5 6]]\n",
      "[[ 7  8  9]\n",
      " [10 11 12]]\n",
      "[[ 8 10 12]\n",
      " [14 16 18]]\n"
     ]
    }
   ],
   "source": [
    "C = np.array ([ [1,2,3] , [4,5,6] ])\n",
    "D = np.array ([ [7,8,9] , [10,11,12] ])\n",
    "E = np.array ([ [7,8,9] , [10,11,12], [10,11,12] ])\n",
    "\n",
    "print (C)\n",
    "print (D)\n",
    "\n",
    "print (C+D) "
   ]
  },
  {
   "cell_type": "code",
   "execution_count": 17,
   "id": "be73d81a-e95a-4d44-8e7d-f027fc824815",
   "metadata": {},
   "outputs": [
    {
     "name": "stdout",
     "output_type": "stream",
     "text": [
      "(2, 3)\n"
     ]
    }
   ],
   "source": [
    "print (C.shape) "
   ]
  },
  {
   "cell_type": "code",
   "execution_count": 18,
   "id": "f5f81a4b-051b-4060-b60a-e97ad323c6db",
   "metadata": {},
   "outputs": [
    {
     "name": "stdout",
     "output_type": "stream",
     "text": [
      "6\n"
     ]
    }
   ],
   "source": [
    "print (C.size) "
   ]
  },
  {
   "cell_type": "code",
   "execution_count": 20,
   "id": "649d0282-b061-4e7f-aad7-837218ae8eb0",
   "metadata": {},
   "outputs": [
    {
     "name": "stdout",
     "output_type": "stream",
     "text": [
      "9\n"
     ]
    }
   ],
   "source": [
    "print (E.size)"
   ]
  },
  {
   "cell_type": "markdown",
   "id": "be038838-7a35-43f8-ade3-14dd4186d551",
   "metadata": {},
   "source": [
    "# NumPy Array Dimensions "
   ]
  },
  {
   "cell_type": "code",
   "execution_count": 24,
   "id": "d8f63e51-fedc-4dba-861d-d13503f44ebc",
   "metadata": {},
   "outputs": [
    {
     "name": "stdout",
     "output_type": "stream",
     "text": [
      "1\n",
      "1\n",
      "2\n",
      "2\n",
      "2\n"
     ]
    }
   ],
   "source": [
    "print (A.ndim)\n",
    "print (B.ndim)\n",
    "print (C.ndim)\n",
    "print (D.ndim)\n",
    "print (E.ndim)"
   ]
  },
  {
   "cell_type": "code",
   "execution_count": 25,
   "id": "dbf87ae6-56d3-42c2-8eed-829b2a0633df",
   "metadata": {},
   "outputs": [
    {
     "data": {
      "text/plain": [
       "array([[1, 4],\n",
       "       [2, 5],\n",
       "       [3, 6]])"
      ]
     },
     "execution_count": 25,
     "metadata": {},
     "output_type": "execute_result"
    }
   ],
   "source": [
    "import numpy as np\n",
    "\n",
    "A = np.array([ [1,2,3], [4,5,6] ])\n",
    "A.transpose()\n"
   ]
  },
  {
   "cell_type": "code",
   "execution_count": 26,
   "id": "f0f1019e-4c86-436a-81fe-a3751e986679",
   "metadata": {},
   "outputs": [
    {
     "data": {
      "text/plain": [
       "array([1, 2, 3, 4, 5, 6])"
      ]
     },
     "execution_count": 26,
     "metadata": {},
     "output_type": "execute_result"
    }
   ],
   "source": [
    "A.ravel()"
   ]
  },
  {
   "cell_type": "code",
   "execution_count": 27,
   "id": "e02f3a71-3150-4eae-82dc-bc05cc060005",
   "metadata": {},
   "outputs": [
    {
     "name": "stdout",
     "output_type": "stream",
     "text": [
      "[0. 0. 0. 0. 0. 0. 0. 0. 0. 0.]\n"
     ]
    }
   ],
   "source": [
    "print (np.zeros(10)) "
   ]
  },
  {
   "cell_type": "code",
   "execution_count": 28,
   "id": "4442e754-bdec-4118-8e8a-0ca012bf82da",
   "metadata": {},
   "outputs": [
    {
     "name": "stdout",
     "output_type": "stream",
     "text": [
      "[1. 1. 1. 1. 1. 1. 1. 1. 1. 1.]\n"
     ]
    }
   ],
   "source": [
    "print (np.ones(10)) "
   ]
  },
  {
   "cell_type": "code",
   "execution_count": 29,
   "id": "279dbb10-9653-4e28-ae59-66e39d3e595a",
   "metadata": {},
   "outputs": [
    {
     "data": {
      "text/plain": [
       "array([[[1.],\n",
       "        [1.]],\n",
       "\n",
       "       [[1.],\n",
       "        [1.]],\n",
       "\n",
       "       [[1.],\n",
       "        [1.]]])"
      ]
     },
     "execution_count": 29,
     "metadata": {},
     "output_type": "execute_result"
    }
   ],
   "source": [
    "np.ones((3,2,1))"
   ]
  },
  {
   "cell_type": "markdown",
   "id": "ce996bcb-0cab-4756-90cc-5713df80e0ea",
   "metadata": {},
   "source": [
    "# Sequence "
   ]
  },
  {
   "cell_type": "code",
   "execution_count": 30,
   "id": "1fd6e232-1916-415d-884d-cb23d94d5a84",
   "metadata": {},
   "outputs": [
    {
     "data": {
      "text/plain": [
       "array([ 0, 25, 50, 75])"
      ]
     },
     "execution_count": 30,
     "metadata": {},
     "output_type": "execute_result"
    }
   ],
   "source": [
    "np.arange(0,100,25)"
   ]
  },
  {
   "cell_type": "code",
   "execution_count": 31,
   "id": "6f9f8a6e-8b3d-4082-b2d1-dc01aa3491a1",
   "metadata": {},
   "outputs": [
    {
     "data": {
      "text/plain": [
       "array([ 0,  5, 10, 15, 20, 25, 30, 35, 40, 45, 50, 55, 60, 65, 70, 75, 80,\n",
       "       85, 90, 95])"
      ]
     },
     "execution_count": 31,
     "metadata": {},
     "output_type": "execute_result"
    }
   ],
   "source": [
    "np.arange(0,100,5)"
   ]
  },
  {
   "cell_type": "code",
   "execution_count": 32,
   "id": "55815c1c-1b79-40ce-a307-989216ebd52c",
   "metadata": {},
   "outputs": [
    {
     "data": {
      "text/plain": [
       "array([ 0,  3,  6,  9, 12, 15, 18, 21, 24, 27, 30, 33, 36, 39, 42, 45, 48,\n",
       "       51, 54, 57, 60, 63, 66, 69, 72, 75, 78, 81, 84, 87, 90, 93, 96, 99])"
      ]
     },
     "execution_count": 32,
     "metadata": {},
     "output_type": "execute_result"
    }
   ],
   "source": [
    "np.arange(0,100,3)"
   ]
  },
  {
   "cell_type": "markdown",
   "id": "0cbefd47-05a1-4de1-bb24-e559e20bc3f1",
   "metadata": {},
   "source": [
    "# OPERATIONS FUNTIONS "
   ]
  },
  {
   "cell_type": "markdown",
   "id": "215f9bf4-738b-404c-bf38-39ad463192db",
   "metadata": {},
   "source": [
    "## Statistical Operations "
   ]
  },
  {
   "cell_type": "markdown",
   "id": "13565399-e716-4bfa-ba17-e492d0c4e8ab",
   "metadata": {},
   "source": [
    "### MEAN"
   ]
  },
  {
   "cell_type": "code",
   "execution_count": 33,
   "id": "2df27109-9662-40a6-bbbc-30df2afb5d46",
   "metadata": {},
   "outputs": [
    {
     "name": "stdout",
     "output_type": "stream",
     "text": [
      "4.8\n"
     ]
    }
   ],
   "source": [
    "A = np.array ([ 1, 2, 5, 7, 9 ])\n",
    "print (np.mean(A))\n"
   ]
  },
  {
   "cell_type": "markdown",
   "id": "ab5df17f-c9b8-40be-b5b5-16edbe2fc26b",
   "metadata": {},
   "source": [
    "### MEDIAN "
   ]
  },
  {
   "cell_type": "code",
   "execution_count": 34,
   "id": "f56ec24f-48b2-43e2-b9fc-508ceb037657",
   "metadata": {},
   "outputs": [
    {
     "name": "stdout",
     "output_type": "stream",
     "text": [
      "5.0\n"
     ]
    }
   ],
   "source": [
    "A = np.array ([ 1, 2, 5, 7, 9 ])\n",
    "print (np.median(A))\n"
   ]
  },
  {
   "cell_type": "markdown",
   "id": "fae43e2f-46ec-4c1f-9ace-b1d096b3f68f",
   "metadata": {},
   "source": [
    "## STD "
   ]
  },
  {
   "cell_type": "code",
   "execution_count": 35,
   "id": "88c07295-bf6b-49c7-ab54-e147c3e63952",
   "metadata": {},
   "outputs": [
    {
     "name": "stdout",
     "output_type": "stream",
     "text": [
      "2.993325909419153\n"
     ]
    }
   ],
   "source": [
    "A = np.array ([ 1, 2, 5, 7, 9 ])\n",
    "print (np.std(A))"
   ]
  },
  {
   "cell_type": "markdown",
   "id": "13a71524-8e71-47dd-9c75-b1f82e89628d",
   "metadata": {},
   "source": [
    "### VAR "
   ]
  },
  {
   "cell_type": "code",
   "execution_count": 36,
   "id": "2d519213-8dcf-48e6-bd47-326d7b66ed2f",
   "metadata": {},
   "outputs": [
    {
     "name": "stdout",
     "output_type": "stream",
     "text": [
      "8.959999999999999\n"
     ]
    }
   ],
   "source": [
    "A = np.array ([ 1, 2, 5, 7, 9 ])\n",
    "print (np.var(A))"
   ]
  },
  {
   "cell_type": "markdown",
   "id": "28875a0f-7519-46cd-bcb5-ae23207bb288",
   "metadata": {},
   "source": [
    "### Mathematical Operations "
   ]
  },
  {
   "cell_type": "code",
   "execution_count": 43,
   "id": "5141105b-4857-4881-a73a-1d687ffed06d",
   "metadata": {},
   "outputs": [
    {
     "name": "stdout",
     "output_type": "stream",
     "text": [
      "31622776.60168379\n"
     ]
    }
   ],
   "source": [
    "num = 1_000_000_000_000_000\n",
    "print (np.sqrt(num))\n"
   ]
  },
  {
   "cell_type": "code",
   "execution_count": 48,
   "id": "f4405bf8-1309-4227-8969-82aafeabee74",
   "metadata": {},
   "outputs": [
    {
     "name": "stdout",
     "output_type": "stream",
     "text": [
      "2.6881171418161356e+43\n"
     ]
    }
   ],
   "source": [
    "num = 100\n",
    "print (np.exp(num)) "
   ]
  },
  {
   "cell_type": "code",
   "execution_count": 49,
   "id": "ff2de614-73db-4449-ac35-2c861bf9df50",
   "metadata": {},
   "outputs": [
    {
     "name": "stdout",
     "output_type": "stream",
     "text": [
      "4.605170185988092\n"
     ]
    }
   ],
   "source": [
    "num = 100\n",
    "print (np.log(num)) "
   ]
  },
  {
   "cell_type": "code",
   "execution_count": 50,
   "id": "10b387c9-df72-4d04-b086-4fc4dbe8073a",
   "metadata": {},
   "outputs": [
    {
     "name": "stdout",
     "output_type": "stream",
     "text": [
      "2.0\n"
     ]
    }
   ],
   "source": [
    "num = 100\n",
    "print (np.log10(num)) "
   ]
  },
  {
   "cell_type": "markdown",
   "id": "12060e02-2e92-4bb0-9a4c-da9491f5ed10",
   "metadata": {},
   "source": [
    "## SORT "
   ]
  },
  {
   "cell_type": "code",
   "execution_count": 51,
   "id": "8f5ac4c5-6d65-4190-b9c3-0327acd33aae",
   "metadata": {},
   "outputs": [
    {
     "data": {
      "text/plain": [
       "array([1, 2, 3, 4, 5])"
      ]
     },
     "execution_count": 51,
     "metadata": {},
     "output_type": "execute_result"
    }
   ],
   "source": [
    "import numpy as np\n",
    "A = np.array([3,2,5,4,1])\n",
    "np.sort(A)\n"
   ]
  },
  {
   "cell_type": "markdown",
   "id": "44210351-a3dc-4b08-9627-e33310f22b95",
   "metadata": {},
   "source": [
    "## RANDOM "
   ]
  },
  {
   "cell_type": "code",
   "execution_count": 52,
   "id": "3cc81e83-38b7-4a8a-80f9-267f789ce558",
   "metadata": {},
   "outputs": [
    {
     "data": {
      "text/plain": [
       "array([ 0.20322448,  1.0791768 , -0.33972137, -0.18227983,  1.68080767])"
      ]
     },
     "execution_count": 52,
     "metadata": {},
     "output_type": "execute_result"
    }
   ],
   "source": [
    "import numpy as np\n",
    "np.random.randn(5)"
   ]
  },
  {
   "cell_type": "code",
   "execution_count": 53,
   "id": "4bcafff6-99f2-4e7b-a3d3-7707c967436b",
   "metadata": {},
   "outputs": [
    {
     "data": {
      "text/plain": [
       "array([[0.16864103, 0.73738012, 0.05016552],\n",
       "       [0.58972218, 0.79528952, 0.24343385]])"
      ]
     },
     "execution_count": 53,
     "metadata": {},
     "output_type": "execute_result"
    }
   ],
   "source": [
    "import numpy as np\n",
    "np.random.randn(2, 3)"
   ]
  },
  {
   "cell_type": "code",
   "execution_count": 54,
   "id": "b88d1f04-df87-4d22-8036-5dce25ce866a",
   "metadata": {},
   "outputs": [
    {
     "data": {
      "text/plain": [
       "array([4, 9, 8, 1, 5, 4, 3, 7, 1, 9, 2, 2, 4, 2, 8, 2, 8, 2, 1, 4])"
      ]
     },
     "execution_count": 54,
     "metadata": {},
     "output_type": "execute_result"
    }
   ],
   "source": [
    "import numpy as np\n",
    "np.random.randint(low = 1, high= 10, size= 20)"
   ]
  },
  {
   "cell_type": "markdown",
   "id": "f9ce7b93-fdb7-4504-ae38-9254e68abc74",
   "metadata": {},
   "source": [
    "# Selecting Data in NumPy Array "
   ]
  },
  {
   "cell_type": "code",
   "execution_count": 55,
   "id": "66e118dc-46d3-4a23-9f39-e5e785656976",
   "metadata": {},
   "outputs": [
    {
     "name": "stdout",
     "output_type": "stream",
     "text": [
      "1\n",
      "2\n"
     ]
    }
   ],
   "source": [
    "import numpy as np\n",
    "A = np.array([1,2,3,4,5,6])\n",
    "\n",
    "print(A[0])\n",
    "print(A[1])"
   ]
  },
  {
   "cell_type": "code",
   "execution_count": 58,
   "id": "1a863ba2-dc8c-42d3-afab-7b9b27ed451a",
   "metadata": {},
   "outputs": [
    {
     "name": "stdout",
     "output_type": "stream",
     "text": [
      "1\n",
      "2\n"
     ]
    }
   ],
   "source": [
    "import numpy as np\n",
    "B = np.array([ [1,2,3,4,5,6],[1,2,3,4,5,6] ])\n",
    "\n",
    "print(B[0][0])\n",
    "print(B[1][1])\n"
   ]
  },
  {
   "cell_type": "markdown",
   "id": "7162fb69-ead6-4ab8-871c-48d22983d7c6",
   "metadata": {},
   "source": [
    "# PANDAS "
   ]
  },
  {
   "cell_type": "markdown",
   "id": "4b6e109e-7b4e-481a-aa13-9efba6ce1f4a",
   "metadata": {},
   "source": [
    "## Pandas ( Panel Data ) "
   ]
  },
  {
   "cell_type": "code",
   "execution_count": 61,
   "id": "ba80035b-1e82-42fb-b9b2-96ff2020b9e2",
   "metadata": {},
   "outputs": [],
   "source": [
    "import pandas as pd\n"
   ]
  },
  {
   "cell_type": "markdown",
   "id": "72f3afbf-b691-482f-8c8e-e9653b4e7b8b",
   "metadata": {},
   "source": [
    "## SERIES "
   ]
  },
  {
   "cell_type": "code",
   "execution_count": 65,
   "id": "80efb887-7228-4339-8883-5f5f26c105c7",
   "metadata": {},
   "outputs": [
    {
     "name": "stdout",
     "output_type": "stream",
     "text": [
      "0    1\n",
      "1    2\n",
      "2    3\n",
      "3    4\n",
      "4    5\n",
      "dtype: int64\n",
      "[1 2 3 4 5]\n"
     ]
    }
   ],
   "source": [
    "import pandas as pd\n",
    "\n",
    "data_series = pd.Series([1,2,3,4,5])\n",
    "\n",
    "print (data_series) \n",
    "\n",
    "print (data_series.values) \n",
    "\n"
   ]
  },
  {
   "cell_type": "markdown",
   "id": "59858fb4-9591-4953-98f5-5fb7a3253229",
   "metadata": {},
   "source": [
    "## WITH REAL DATA - Selecting data in the Series"
   ]
  },
  {
   "cell_type": "code",
   "execution_count": 69,
   "id": "0b92f044-3fe9-4363-9455-94791df8208b",
   "metadata": {},
   "outputs": [
    {
     "name": "stdout",
     "output_type": "stream",
     "text": [
      "AAPL    194.27\n",
      "META    326.59\n",
      "NVDA    465.96\n",
      "dtype: float64\n",
      "194.27\n"
     ]
    }
   ],
   "source": [
    "import pandas as pd\n",
    "stocks = {\"AAPL\":194.27, \"META\": 326.59, \"NVDA\": 465.96}\n",
    "stocks_series = pd.Series(stocks)\n",
    "print(stocks_series)\n",
    "\n",
    "print(stocks_series[\"AAPL\"])\n",
    "\n"
   ]
  }
 ],
 "metadata": {
  "kernelspec": {
   "display_name": "Python 3 (ipykernel)",
   "language": "python",
   "name": "python3"
  },
  "language_info": {
   "codemirror_mode": {
    "name": "ipython",
    "version": 3
   },
   "file_extension": ".py",
   "mimetype": "text/x-python",
   "name": "python",
   "nbconvert_exporter": "python",
   "pygments_lexer": "ipython3",
   "version": "3.11.5"
  }
 },
 "nbformat": 4,
 "nbformat_minor": 5
}
