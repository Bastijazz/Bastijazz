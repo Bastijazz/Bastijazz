{
 "cells": [
  {
   "cell_type": "markdown",
   "id": "0bb37ec6-0411-4bc5-a078-58810154914b",
   "metadata": {},
   "source": [
    "# Dictionary"
   ]
  },
  {
   "cell_type": "markdown",
   "id": "c518a204-2175-4f55-b23b-262b826912e9",
   "metadata": {},
   "source": [
    "# Tuples"
   ]
  },
  {
   "cell_type": "code",
   "execution_count": 46,
   "id": "7fdfbb11-0756-4ebd-8391-c078051e52e0",
   "metadata": {},
   "outputs": [],
   "source": [
    "tup1 = () #Empty tuple"
   ]
  },
  {
   "cell_type": "code",
   "execution_count": 47,
   "id": "f4e1cb09-7aee-4bc6-a697-c6b10736620f",
   "metadata": {},
   "outputs": [],
   "source": [
    "tup2 = (10, 30, 60) # Tuple of integers numbers"
   ]
  },
  {
   "cell_type": "code",
   "execution_count": 48,
   "id": "6d27f796-ccaf-45cc-95a6-380724e9a20a",
   "metadata": {},
   "outputs": [],
   "source": [
    "tup3 = ( 10.77, 203.23, 545.23) # Tuple of floats"
   ]
  },
  {
   "cell_type": "code",
   "execution_count": 49,
   "id": "ea4799c9-5e37-4cfd-bf59-49d0f4970c74",
   "metadata": {},
   "outputs": [],
   "source": [
    "tup4 = ('one', 'two', 'three') # Tuple of string"
   ]
  },
  {
   "cell_type": "code",
   "execution_count": 50,
   "id": "a949665e-d9be-4998-804f-4094547c2311",
   "metadata": {},
   "outputs": [],
   "source": [
    "tup5 = ( 'one', 1, 1.75 ) # tuple mixed"
   ]
  },
  {
   "cell_type": "code",
   "execution_count": 51,
   "id": "16f46718-d14a-4524-ba46-86ecd1e167aa",
   "metadata": {},
   "outputs": [
    {
     "ename": "NameError",
     "evalue": "name 'tup6' is not defined",
     "output_type": "error",
     "traceback": [
      "\u001b[1;31m---------------------------------------------------------------------------\u001b[0m",
      "\u001b[1;31mNameError\u001b[0m                                 Traceback (most recent call last)",
      "Cell \u001b[1;32mIn[51], line 1\u001b[0m\n\u001b[1;32m----> 1\u001b[0m \u001b[43mtup6\u001b[49m[\u001b[38;5;241m1\u001b[39m] \u001b[38;5;241m=\u001b[39m \u001b[38;5;124m'\u001b[39m\u001b[38;5;124mnone\u001b[39m\u001b[38;5;124m'\u001b[39m\n",
      "\u001b[1;31mNameError\u001b[0m: name 'tup6' is not defined"
     ]
    }
   ],
   "source": [
    "tup6[1] = 'none'\n"
   ]
  },
  {
   "cell_type": "markdown",
   "id": "8c2ad08c-a3b4-440a-ba4c-d6e9408f1055",
   "metadata": {},
   "source": [
    "# Tuple Index"
   ]
  },
  {
   "cell_type": "code",
   "execution_count": 52,
   "id": "7dfb2da2-272f-4de4-a614-191eebebe3a3",
   "metadata": {},
   "outputs": [
    {
     "name": "stdout",
     "output_type": "stream",
     "text": [
      "10\n"
     ]
    }
   ],
   "source": [
    "print ( tup2[0] )\n"
   ]
  },
  {
   "cell_type": "code",
   "execution_count": 53,
   "id": "b65b504a-5d56-441e-bde3-c15dd19e59e1",
   "metadata": {},
   "outputs": [
    {
     "name": "stdout",
     "output_type": "stream",
     "text": [
      "one\n"
     ]
    }
   ],
   "source": [
    "print ( tup4[0] )\n"
   ]
  },
  {
   "cell_type": "markdown",
   "id": "b01838bb-8acc-46a2-8dbb-7ad81992671e",
   "metadata": {},
   "source": [
    "# Tuple Sclicing"
   ]
  },
  {
   "cell_type": "code",
   "execution_count": 54,
   "id": "68dafac9-284d-4455-b05d-7526a46d4b97",
   "metadata": {},
   "outputs": [],
   "source": [
    "mytuple = ( 'one', 'two', 'three', 'four', 'five', 'six', 'seven', 'eight' )\n"
   ]
  },
  {
   "cell_type": "code",
   "execution_count": 55,
   "id": "95003058-1297-4f04-b0a4-d4e1dd3a6f30",
   "metadata": {},
   "outputs": [
    {
     "name": "stdout",
     "output_type": "stream",
     "text": [
      "('one', 'two', 'three')\n"
     ]
    }
   ],
   "source": [
    "print ( mytuple[0:3] )\n"
   ]
  },
  {
   "cell_type": "code",
   "execution_count": 56,
   "id": "7c3f802f-91a9-49ce-83cf-718b7b28355b",
   "metadata": {},
   "outputs": [
    {
     "name": "stdout",
     "output_type": "stream",
     "text": [
      "('three', 'four', 'five')\n"
     ]
    }
   ],
   "source": [
    "print ( mytuple[2:5] )\n"
   ]
  },
  {
   "cell_type": "code",
   "execution_count": 57,
   "id": "a6ad6f8f-7559-49a1-8dba-dc74bd503728",
   "metadata": {},
   "outputs": [
    {
     "ename": "TypeError",
     "evalue": "'tuple' object doesn't support item deletion",
     "output_type": "error",
     "traceback": [
      "\u001b[1;31m---------------------------------------------------------------------------\u001b[0m",
      "\u001b[1;31mTypeError\u001b[0m                                 Traceback (most recent call last)",
      "Cell \u001b[1;32mIn[57], line 1\u001b[0m\n\u001b[1;32m----> 1\u001b[0m \u001b[38;5;28;01mdel\u001b[39;00m mytuple[\u001b[38;5;241m0\u001b[39m]\n",
      "\u001b[1;31mTypeError\u001b[0m: 'tuple' object doesn't support item deletion"
     ]
    }
   ],
   "source": [
    "del mytuple[0]\n"
   ]
  },
  {
   "cell_type": "code",
   "execution_count": 58,
   "id": "7294032e-0d40-43c5-92bb-24c3833679a8",
   "metadata": {},
   "outputs": [],
   "source": [
    "del mytuple\n"
   ]
  },
  {
   "cell_type": "code",
   "execution_count": 59,
   "id": "f8b45b19-0e93-4df9-9bc6-9e55e3024fc5",
   "metadata": {},
   "outputs": [
    {
     "ename": "NameError",
     "evalue": "name 'mytuple' is not defined",
     "output_type": "error",
     "traceback": [
      "\u001b[1;31m---------------------------------------------------------------------------\u001b[0m",
      "\u001b[1;31mNameError\u001b[0m                                 Traceback (most recent call last)",
      "Cell \u001b[1;32mIn[59], line 1\u001b[0m\n\u001b[1;32m----> 1\u001b[0m \u001b[38;5;28mprint\u001b[39m (\u001b[43mmytuple\u001b[49m)\n",
      "\u001b[1;31mNameError\u001b[0m: name 'mytuple' is not defined"
     ]
    }
   ],
   "source": [
    "print (mytuple)"
   ]
  },
  {
   "cell_type": "markdown",
   "id": "54354d0c-374a-4073-b1ee-c5e53f5edb68",
   "metadata": {},
   "source": [
    "# Loop"
   ]
  },
  {
   "cell_type": "code",
   "execution_count": 60,
   "id": "747cd1dd-da83-4f48-8d3f-8df3bc617e74",
   "metadata": {},
   "outputs": [
    {
     "name": "stdout",
     "output_type": "stream",
     "text": [
      "one\n",
      "two\n",
      "three\n",
      "four\n",
      "five\n",
      "six\n",
      "seven\n",
      "eight\n"
     ]
    }
   ],
   "source": [
    "mytuple = ( 'one', 'two', 'three', 'four', 'five', 'six', 'seven', 'eight' )\n",
    "for i in mytuple:\n",
    " print(i)\n"
   ]
  },
  {
   "cell_type": "code",
   "execution_count": 61,
   "id": "d1603246-318a-4866-a4c1-b56ef49a2668",
   "metadata": {},
   "outputs": [
    {
     "name": "stdout",
     "output_type": "stream",
     "text": [
      "(0, 'one')\n",
      "(1, 'two')\n",
      "(2, 'three')\n",
      "(3, 'four')\n",
      "(4, 'five')\n",
      "(5, 'six')\n",
      "(6, 'seven')\n",
      "(7, 'eight')\n"
     ]
    }
   ],
   "source": [
    "mytuple = ( 'one', 'two', 'three', 'four', 'five', 'six', 'seven', 'eight' )\n",
    "for i in enumerate(mytuple):\n",
    " print(i)"
   ]
  },
  {
   "cell_type": "code",
   "execution_count": 62,
   "id": "042cc050-c630-434f-a524-b143e802e786",
   "metadata": {},
   "outputs": [
    {
     "data": {
      "text/plain": [
       "True"
      ]
     },
     "execution_count": 62,
     "metadata": {},
     "output_type": "execute_result"
    }
   ],
   "source": [
    "'one' in mytuple\n"
   ]
  },
  {
   "cell_type": "code",
   "execution_count": 63,
   "id": "1d9e0ead-0a30-4c17-9d6c-c3210ba6b23b",
   "metadata": {},
   "outputs": [
    {
     "data": {
      "text/plain": [
       "[13, 22, 37, 43, 69]"
      ]
     },
     "execution_count": 63,
     "metadata": {},
     "output_type": "execute_result"
    }
   ],
   "source": [
    "mytuple2 = ( 43, 69, 37 , 22 , 13 )\n",
    "sorted(mytuple2)\n"
   ]
  },
  {
   "cell_type": "markdown",
   "id": "bb25403f-c1bd-42f9-9bbf-80d006df3052",
   "metadata": {},
   "source": [
    "# Set"
   ]
  },
  {
   "cell_type": "code",
   "execution_count": 64,
   "id": "84b583ab-6f25-4408-9671-12b6f2455c7e",
   "metadata": {},
   "outputs": [
    {
     "name": "stdout",
     "output_type": "stream",
     "text": [
      "{1, 2, 3, 4, 5}\n"
     ]
    }
   ],
   "source": [
    "myset = { 1,2,3,4,5 }\n",
    "print(myset)\n"
   ]
  },
  {
   "cell_type": "code",
   "execution_count": 66,
   "id": "7b3179d0-0642-4ce2-9180-fd60f35a8deb",
   "metadata": {},
   "outputs": [
    {
     "name": "stdout",
     "output_type": "stream",
     "text": [
      "{1, 2, 3, 4, 5}\n",
      "1\n",
      "2\n",
      "3\n",
      "4\n",
      "5\n"
     ]
    }
   ],
   "source": [
    "myset = { 1,2,3,4,5,3,4,5,1 }\n",
    "print(myset)\n",
    "for i in myset:\n",
    "    print(i)"
   ]
  },
  {
   "cell_type": "code",
   "execution_count": 68,
   "id": "c3459281-2250-405c-b18d-7c287ecf370f",
   "metadata": {},
   "outputs": [
    {
     "name": "stdout",
     "output_type": "stream",
     "text": [
      "{1.34, 2.5, 7.89}\n",
      "1.34\n",
      "2.5\n",
      "7.89\n"
     ]
    }
   ],
   "source": [
    "myset = { 1.34, 2.5, 7.89, 1.34 }\n",
    "print (myset)\n",
    "for i in myset:\n",
    "    print(i)\n",
    "    "
   ]
  },
  {
   "cell_type": "code",
   "execution_count": 69,
   "id": "502fcac9-86a8-4812-8020-0fafe75b4055",
   "metadata": {},
   "outputs": [
    {
     "data": {
      "text/plain": [
       "set"
      ]
     },
     "execution_count": 69,
     "metadata": {},
     "output_type": "execute_result"
    }
   ],
   "source": [
    "type (myset)\n"
   ]
  },
  {
   "cell_type": "code",
   "execution_count": 70,
   "id": "a3a1c0df-14b3-4d2e-9789-c51940872adc",
   "metadata": {},
   "outputs": [
    {
     "name": "stdout",
     "output_type": "stream",
     "text": [
      "{1, 2, 3, 4, 5}\n",
      "(0, 1)\n",
      "(1, 2)\n",
      "(2, 3)\n",
      "(3, 4)\n",
      "(4, 5)\n"
     ]
    }
   ],
   "source": [
    "myset = { 1,2,3,4,5,3,4,5,1 }\n",
    "print(myset)\n",
    "for i in enumerate(myset):\n",
    " print(i)"
   ]
  },
  {
   "cell_type": "code",
   "execution_count": 71,
   "id": "1b55dd9c-c586-4808-9169-b52009fca97a",
   "metadata": {},
   "outputs": [
    {
     "data": {
      "text/plain": [
       "{1, 2, 3, 4, 5, 6, 7, 8}"
      ]
     },
     "execution_count": 71,
     "metadata": {},
     "output_type": "execute_result"
    }
   ],
   "source": [
    "A = { 1, 2,3, 4,5 }\n",
    "B = { 6,7, 8 }\n",
    "A.union(B)\n"
   ]
  },
  {
   "cell_type": "markdown",
   "id": "5b36a956-4b66-4f8d-aa7c-24fe1bbfce9c",
   "metadata": {},
   "source": [
    "# Dictionary"
   ]
  },
  {
   "cell_type": "code",
   "execution_count": 72,
   "id": "93bec498-d5a3-4b6a-bdf2-4e0038d09e3b",
   "metadata": {},
   "outputs": [
    {
     "name": "stdout",
     "output_type": "stream",
     "text": [
      "{'Key': 'Value', 'Key2': 'Value2'}\n"
     ]
    }
   ],
   "source": [
    "mydict = { 'Key': 'Value', 'Key2': 'Value2' }\n",
    "print(mydict)"
   ]
  },
  {
   "cell_type": "code",
   "execution_count": 78,
   "id": "260eb1f6-eba0-4565-97a7-68770fc1706b",
   "metadata": {},
   "outputs": [
    {
     "name": "stdout",
     "output_type": "stream",
     "text": [
      "{'firstname': 'Bastian', 'lastname': 'Parra', 'height': 1.56}\n"
     ]
    }
   ],
   "source": [
    "mydict = { 'firstname':'Bastian', 'lastname':'Parra', 'height':1.56 }\n",
    "print(mydict)\n"
   ]
  },
  {
   "cell_type": "code",
   "execution_count": 79,
   "id": "69b6b200-fefc-4c33-b771-12a0d587a6e0",
   "metadata": {},
   "outputs": [
    {
     "name": "stdout",
     "output_type": "stream",
     "text": [
      "{'firstname': 'Bastian', 'lastname': 'Parra', 'height': 1.56}\n"
     ]
    },
    {
     "data": {
      "text/plain": [
       "dict_keys(['firstname', 'lastname', 'height'])"
      ]
     },
     "execution_count": 79,
     "metadata": {},
     "output_type": "execute_result"
    }
   ],
   "source": [
    "mydict = { 'firstname':'Bastian', 'lastname':'Parra', 'height':1.56 }\n",
    "print(mydict)\n",
    "mydict.keys()\n"
   ]
  },
  {
   "cell_type": "code",
   "execution_count": 80,
   "id": "e6edbf3f-39f7-4038-a3b7-192e03f057e5",
   "metadata": {},
   "outputs": [
    {
     "name": "stdout",
     "output_type": "stream",
     "text": [
      "{'firstname': 'Bastian', 'lastname': 'Parra', 'height': 1.56}\n"
     ]
    },
    {
     "data": {
      "text/plain": [
       "dict_values(['Bastian', 'Parra', 1.56])"
      ]
     },
     "execution_count": 80,
     "metadata": {},
     "output_type": "execute_result"
    }
   ],
   "source": [
    "mydict = { 'firstname':'Bastian', 'lastname':'Parra', 'height':1.56 }\n",
    "print(mydict)\n",
    "mydict.values()"
   ]
  },
  {
   "cell_type": "code",
   "execution_count": 81,
   "id": "6f8852ca-e0ae-4ea2-b044-fbc018533c4b",
   "metadata": {},
   "outputs": [
    {
     "data": {
      "text/plain": [
       "'Bastian'"
      ]
     },
     "execution_count": 81,
     "metadata": {},
     "output_type": "execute_result"
    }
   ],
   "source": [
    "mydict = { 'firstname':'Bastian', 'lastname':'Parra', 'height':1.56 }\n",
    "mydict['firstname']\n"
   ]
  },
  {
   "cell_type": "code",
   "execution_count": 82,
   "id": "4bf93eaf-5b8d-4a41-8367-96e6bdc519b4",
   "metadata": {},
   "outputs": [
    {
     "name": "stdout",
     "output_type": "stream",
     "text": [
      "firstname : Bastian\n",
      "lastname : Parra\n",
      "height : 1.56\n"
     ]
    }
   ],
   "source": [
    "mydict = { 'firstname':'Bastian', 'lastname':'Parra', 'height':1.56 }\n",
    "for i in mydict:\n",
    " print (i, ':', mydict[i])\n"
   ]
  },
  {
   "cell_type": "code",
   "execution_count": null,
   "id": "5048cdf1-3309-433b-bb22-d6f2b2277030",
   "metadata": {},
   "outputs": [],
   "source": []
  },
  {
   "cell_type": "code",
   "execution_count": 2,
   "id": "9d463166-1c1e-4205-8085-b7591944810b",
   "metadata": {},
   "outputs": [
    {
     "name": "stdout",
     "output_type": "stream",
     "text": [
      "firstname : Bastian\n",
      "lastname : Parra\n",
      "Age : 32\n"
     ]
    }
   ],
   "source": [
    "mydict = {'firstname' : 'Bastian', 'lastname' : 'Parra', 'Age': 32}\n",
    "for i in mydict:\n",
    "    print(i, ':', mydict[i])"
   ]
  },
  {
   "cell_type": "markdown",
   "id": "9c2ad8b7-625e-4d3a-be5f-907b95aaac7d",
   "metadata": {},
   "source": [
    " # Operators"
   ]
  },
  {
   "cell_type": "markdown",
   "id": "c5e2f60f-cf36-4f58-bddb-d0a043fc18ec",
   "metadata": {},
   "source": [
    "### Addition"
   ]
  },
  {
   "cell_type": "code",
   "execution_count": 4,
   "id": "4a31384f-9483-4bd8-a0b4-bad351e5b536",
   "metadata": {},
   "outputs": [
    {
     "name": "stdout",
     "output_type": "stream",
     "text": [
      "7\n"
     ]
    }
   ],
   "source": [
    "a = 5\n",
    "b =2 \n",
    "\n",
    "c = a + b\n",
    "print(c)"
   ]
  },
  {
   "cell_type": "markdown",
   "id": "b5e47249-2fa5-46d6-ad09-54166c841d1a",
   "metadata": {},
   "source": [
    "### Substractions"
   ]
  },
  {
   "cell_type": "code",
   "execution_count": 5,
   "id": "7a5216e4-279b-4a69-b65f-ef7ccd9eac41",
   "metadata": {},
   "outputs": [
    {
     "name": "stdout",
     "output_type": "stream",
     "text": [
      "3\n"
     ]
    }
   ],
   "source": [
    "a = 5\n",
    "b =2 \n",
    "\n",
    "c = a - b\n",
    "print(c)"
   ]
  },
  {
   "cell_type": "code",
   "execution_count": 7,
   "id": "e74c5497-943e-466c-9f25-0d2dd4937ab5",
   "metadata": {},
   "outputs": [
    {
     "name": "stdout",
     "output_type": "stream",
     "text": [
      "3\n"
     ]
    }
   ],
   "source": [
    "a = 10\n",
    "b =3\n",
    "\n",
    "c = a // b\n",
    "print(c)"
   ]
  },
  {
   "cell_type": "code",
   "execution_count": 8,
   "id": "14c7c605-d82e-4d30-8058-eef28f755d89",
   "metadata": {},
   "outputs": [
    {
     "name": "stdout",
     "output_type": "stream",
     "text": [
      "3.3333333333333335\n"
     ]
    }
   ],
   "source": [
    "a = 10\n",
    "b =3\n",
    "\n",
    "c = a / b\n",
    "print(c)"
   ]
  },
  {
   "cell_type": "code",
   "execution_count": 9,
   "id": "39664f6f-7387-479a-9843-022bc298fda3",
   "metadata": {},
   "outputs": [
    {
     "name": "stdout",
     "output_type": "stream",
     "text": [
      "30\n"
     ]
    }
   ],
   "source": [
    "a = 10\n",
    "b =3\n",
    "\n",
    "c = a * b\n",
    "print(c)"
   ]
  },
  {
   "cell_type": "markdown",
   "id": "09dd0ad3-e669-416b-9882-035413431342",
   "metadata": {},
   "source": [
    "# Module\n",
    "### Rest of the division"
   ]
  },
  {
   "cell_type": "code",
   "execution_count": 11,
   "id": "1321141f-4e5f-4ba8-8ff4-212d9847de10",
   "metadata": {},
   "outputs": [
    {
     "name": "stdout",
     "output_type": "stream",
     "text": [
      "2\n"
     ]
    }
   ],
   "source": [
    "a = 20\n",
    "b =3\n",
    "\n",
    "c = a % b\n",
    "print(c)"
   ]
  },
  {
   "cell_type": "markdown",
   "id": "f7d3e37f-fa52-4253-89be-13d6dbd2d448",
   "metadata": {},
   "source": [
    "# Power"
   ]
  },
  {
   "cell_type": "code",
   "execution_count": 13,
   "id": "5d82b492-76b6-473b-9145-9c82e68485e6",
   "metadata": {},
   "outputs": [
    {
     "name": "stdout",
     "output_type": "stream",
     "text": [
      "1000\n"
     ]
    }
   ],
   "source": [
    "a = 10\n",
    "b =3\n",
    "\n",
    "c = a ** b\n",
    "print(c)"
   ]
  },
  {
   "cell_type": "markdown",
   "id": "d88feeec-5244-4267-a127-8c4ced6afd95",
   "metadata": {},
   "source": [
    "# Logical"
   ]
  },
  {
   "cell_type": "code",
   "execution_count": null,
   "id": "97edf15b-d2c7-4a20-bac2-4e2f28192484",
   "metadata": {},
   "outputs": [],
   "source": [
    "x = True\n",
    "y = False"
   ]
  },
  {
   "cell_type": "markdown",
   "id": "ef54c180-dd44-4019-8cc9-911ee5d4cba1",
   "metadata": {},
   "source": [
    "## Implicit Steps"
   ]
  },
  {
   "cell_type": "code",
   "execution_count": null,
   "id": "0c86641c-bf1b-4fdb-a9b8-31dec1c3e99d",
   "metadata": {},
   "outputs": [],
   "source": [
    "x = 10\n",
    "x +=20 # x = x+20\n",
    "print x"
   ]
  },
  {
   "cell_type": "code",
   "execution_count": 17,
   "id": "83df7327-ede7-4333-ae41-1d7a3cc4e12b",
   "metadata": {},
   "outputs": [
    {
     "name": "stdout",
     "output_type": "stream",
     "text": [
      "100\n"
     ]
    }
   ],
   "source": [
    "x = 10\n",
    "x **=2 # x = x ** 2\n",
    "print(x)"
   ]
  },
  {
   "cell_type": "markdown",
   "id": "d1f2b9ff-4d17-420e-8dcc-0b38a04c5d91",
   "metadata": {},
   "source": [
    "# Definitions - DEF"
   ]
  },
  {
   "cell_type": "code",
   "execution_count": 18,
   "id": "d77dbe24-9118-4b5f-a6f9-4fa3cef8152b",
   "metadata": {},
   "outputs": [
    {
     "name": "stdout",
     "output_type": "stream",
     "text": [
      "Hello world\n"
     ]
    }
   ],
   "source": [
    "def myfunc():\n",
    "    print(\"Hello world\")\n",
    "\n",
    "myfunc()"
   ]
  },
  {
   "cell_type": "code",
   "execution_count": 19,
   "id": "a7d2c84f-d8a5-4ed1-ac96-c4cf6f49f05c",
   "metadata": {},
   "outputs": [
    {
     "name": "stdout",
     "output_type": "stream",
     "text": [
      "Hello Bastian\n"
     ]
    }
   ],
   "source": [
    "def hello(name):\n",
    "    print(f\"Hello {name}\")\n",
    "\n",
    "hello(\"Bastian\")"
   ]
  },
  {
   "cell_type": "code",
   "execution_count": 21,
   "id": "fad09230-32bf-4bbe-9914-1a6bb0966b22",
   "metadata": {},
   "outputs": [
    {
     "name": "stdout",
     "output_type": "stream",
     "text": [
      "100\n",
      "2809\n",
      "9\n"
     ]
    }
   ],
   "source": [
    "def square(n):\n",
    "    n = n * n\n",
    "    return n\n",
    "\n",
    "print(square(10))\n",
    "print(square(53))\n",
    "print(square(3))"
   ]
  },
  {
   "cell_type": "code",
   "execution_count": 23,
   "id": "603a97b3-43d8-4c5f-ac8b-c8f2828de59c",
   "metadata": {},
   "outputs": [
    {
     "name": "stdout",
     "output_type": "stream",
     "text": [
      "100 even number\n",
      "99 even number\n"
     ]
    }
   ],
   "source": [
    "def even_odd (num):\n",
    "    \"\"\"this function will check whether a number is even or odd \"\"\"\n",
    "    if num % 2 == 0:\n",
    "        print (num, \"even number\")\n",
    "    else: \n",
    "        print (num, \"even number\")\n",
    "\n",
    "even_odd(100)\n",
    "even_odd(99)"
   ]
  },
  {
   "cell_type": "code",
   "execution_count": 25,
   "id": "72367b8c-c2a8-4619-9ae4-17fc267a38d6",
   "metadata": {},
   "outputs": [
    {
     "name": "stdout",
     "output_type": "stream",
     "text": [
      "Bastian Parra \n",
      "John Doe \n"
     ]
    }
   ],
   "source": [
    "def fullname (firstname, lastname) :\n",
    "    result = \"{} {} \".format(firstname, lastname)\n",
    "    print(result)\n",
    "fullname(\"Bastian\", \"Parra\")\n",
    "fullname('John', 'Doe')"
   ]
  },
  {
   "cell_type": "code",
   "execution_count": 26,
   "id": "884c83fa-de0b-4c09-933d-78278cedacc4",
   "metadata": {},
   "outputs": [
    {
     "name": "stdout",
     "output_type": "stream",
     "text": [
      "Bastian Parra \n",
      "John Doe \n"
     ]
    }
   ],
   "source": [
    "def fullname (firstname, middlename = '', lastname = '', age = '') :\n",
    "    result = \"{} {} \".format(firstname,middlename, lastname)\n",
    "    print(result)\n",
    "fullname(\"Bastian\", \"Parra\")\n",
    "fullname('John', 'Doe')"
   ]
  },
  {
   "cell_type": "code",
   "execution_count": 29,
   "id": "a01e5861-d8ab-4c0d-9537-00bd8c74b279",
   "metadata": {},
   "outputs": [
    {
     "name": "stdout",
     "output_type": "stream",
     "text": [
      "6\n",
      "30\n"
     ]
    }
   ],
   "source": [
    "def add1(*args):\n",
    "    return sum(args)\n",
    "print(add1(1,2,3))\n",
    "print(add1(1,2,3,4,5,6,2,4,2,1))\n"
   ]
  },
  {
   "cell_type": "code",
   "execution_count": 32,
   "id": "adbb2beb-2326-4ec7-81b1-0d4d47e4f239",
   "metadata": {},
   "outputs": [
    {
     "name": "stdout",
     "output_type": "stream",
     "text": [
      "('john', 'doe', 25)\n",
      "('mart', 'plate', 23, 2.43)\n"
     ]
    }
   ],
   "source": [
    "def user_details(*information):\n",
    "    print(information)\n",
    "\n",
    "user_details('john', 'doe', 25)\n",
    "user_details('mart', 'plate', 23, 2.43)"
   ]
  },
  {
   "cell_type": "code",
   "execution_count": 34,
   "id": "84732812-2c56-444a-adff-fde08ad83665",
   "metadata": {},
   "outputs": [
    {
     "name": "stdout",
     "output_type": "stream",
     "text": [
      "{'firstname': 'john', 'lastname': 'doe', 'age': 25}\n"
     ]
    }
   ],
   "source": [
    "def user_details1(**kwargs):\n",
    "    print(kwargs)\n",
    "\n",
    "user_details1(firstname ='john',lastname =  'doe', age =  25)\n"
   ]
  },
  {
   "cell_type": "markdown",
   "id": "4d99fc66-ebe0-4aba-85b8-ecfa86749f88",
   "metadata": {},
   "source": [
    "# Lambda"
   ]
  },
  {
   "cell_type": "code",
   "execution_count": 36,
   "id": "e2b2c7b5-cc17-4dac-b2a7-74fdc75a1269",
   "metadata": {},
   "outputs": [
    {
     "name": "stdout",
     "output_type": "stream",
     "text": [
      "15\n"
     ]
    }
   ],
   "source": [
    "addition = lambda a: a+10\n",
    "print(addition(5))"
   ]
  },
  {
   "cell_type": "code",
   "execution_count": 37,
   "id": "ae9310da-e047-406d-89bf-893fa64bd8ac",
   "metadata": {},
   "outputs": [
    {
     "ename": "SyntaxError",
     "evalue": "invalid syntax (2438592258.py, line 2)",
     "output_type": "error",
     "traceback": [
      "\u001b[1;36m  Cell \u001b[1;32mIn[37], line 2\u001b[1;36m\u001b[0m\n\u001b[1;33m    res(1,2,3)\u001b[0m\n\u001b[1;37m    ^\u001b[0m\n\u001b[1;31mSyntaxError\u001b[0m\u001b[1;31m:\u001b[0m invalid syntax\n"
     ]
    }
   ],
   "source": [
    "res = (lambda *args: sum(args)\n",
    "res(1,2,3)"
   ]
  },
  {
   "cell_type": "code",
   "execution_count": 39,
   "id": "0d0d2d65-b874-42a1-ac90-592039d6a3a4",
   "metadata": {},
   "outputs": [
    {
     "ename": "TypeError",
     "evalue": "'int' object is not iterable",
     "output_type": "error",
     "traceback": [
      "\u001b[1;31m---------------------------------------------\u001b[0m",
      "\u001b[1;31mTypeError\u001b[0m   Traceback (most recent call last)",
      "Cell \u001b[1;32mIn[39], line 7\u001b[0m\n\u001b[0;32m      4\u001b[0m         total \u001b[38;5;241m*\u001b[39m\u001b[38;5;241m=\u001b[39m i\n\u001b[0;32m      5\u001b[0m     \u001b[38;5;28;01mreturn\u001b[39;00m total\n\u001b[1;32m----> 7\u001b[0m \u001b[43mproduct\u001b[49m\u001b[43m(\u001b[49m\u001b[38;5;241;43m5\u001b[39;49m\u001b[43m)\u001b[49m\n\u001b[0;32m      9\u001b[0m res1 \u001b[38;5;241m=\u001b[39m (\u001b[38;5;28;01mlambda\u001b[39;00m nums: nums\u001b[38;5;241m+\u001b[39m\u001b[38;5;241m5\u001b[39m)\n\u001b[0;32m     10\u001b[0m res1\n",
      "Cell \u001b[1;32mIn[39], line 3\u001b[0m, in \u001b[0;36mproduct\u001b[1;34m(nums)\u001b[0m\n\u001b[0;32m      1\u001b[0m \u001b[38;5;28;01mdef\u001b[39;00m \u001b[38;5;21mproduct\u001b[39m(nums):\n\u001b[0;32m      2\u001b[0m     total \u001b[38;5;241m=\u001b[39m \u001b[38;5;241m1\u001b[39m\n\u001b[1;32m----> 3\u001b[0m     \u001b[38;5;28;01mfor\u001b[39;00m i \u001b[38;5;129;01min\u001b[39;00m nums:\n\u001b[0;32m      4\u001b[0m         total \u001b[38;5;241m*\u001b[39m\u001b[38;5;241m=\u001b[39m i\n\u001b[0;32m      5\u001b[0m     \u001b[38;5;28;01mreturn\u001b[39;00m total\n",
      "\u001b[1;31mTypeError\u001b[0m: 'int' object is not iterable"
     ]
    }
   ],
   "source": [
    "def product(nums):\n",
    "    total = 1\n",
    "    for i in nums:\n",
    "        total *= i\n",
    "    return total\n",
    "\n",
    "product(5)\n"
   ]
  },
  {
   "cell_type": "code",
   "execution_count": 40,
   "id": "25ec3e8f-4212-4c41-82b8-5372250ccd77",
   "metadata": {},
   "outputs": [
    {
     "data": {
      "text/plain": [
       "10"
      ]
     },
     "execution_count": 40,
     "metadata": {},
     "output_type": "execute_result"
    }
   ],
   "source": [
    "\n",
    "res1 = (lambda nums: nums+5)\n",
    "res1\n",
    "res1(5)"
   ]
  },
  {
   "cell_type": "markdown",
   "id": "46b3b0f4-8a01-4fe0-b4cf-8d56cbbd501a",
   "metadata": {},
   "source": [
    "# Classes and objects"
   ]
  },
  {
   "cell_type": "code",
   "execution_count": 42,
   "id": "77100d8f-da27-4298-b9f9-ee43c5916cb7",
   "metadata": {},
   "outputs": [
    {
     "name": "stdout",
     "output_type": "stream",
     "text": [
      "10\n"
     ]
    }
   ],
   "source": [
    "class MyClassIsAmazing:\n",
    "    global_var1 = 10\n",
    "\n",
    "obj1 = MyClassIsAmazing()\n",
    "print(obj1.global_var1)"
   ]
  },
  {
   "cell_type": "code",
   "execution_count": 44,
   "id": "dfaac4c4-4471-403e-a9d2-c87bdb96e37a",
   "metadata": {},
   "outputs": [
    {
     "name": "stdout",
     "output_type": "stream",
     "text": [
      "Name John\n",
      "Thanks for joining ABC Company John!!\n"
     ]
    }
   ],
   "source": [
    "class Employee:\n",
    "    def __init__(self, name, empid):\n",
    "        self.name = name\n",
    "        self.empid = empid\n",
    "\n",
    "    def greet(self):\n",
    "        print(\"Thanks for joining ABC Company {}!!\".format(self.name))\n",
    "\n",
    "emp1 = Employee(\"John\", 3441)\n",
    "print('Name', emp1.name)\n",
    "emp1.greet()"
   ]
  },
  {
   "cell_type": "code",
   "execution_count": null,
   "id": "f8151021-01ee-474f-951c-4fa532edcb61",
   "metadata": {},
   "outputs": [],
   "source": []
  }
 ],
 "metadata": {
  "kernelspec": {
   "display_name": "Python 3 (ipykernel)",
   "language": "python",
   "name": "python3"
  },
  "language_info": {
   "codemirror_mode": {
    "name": "ipython",
    "version": 3
   },
   "file_extension": ".py",
   "mimetype": "text/x-python",
   "name": "python",
   "nbconvert_exporter": "python",
   "pygments_lexer": "ipython3",
   "version": "3.9.12"
  }
 },
 "nbformat": 4,
 "nbformat_minor": 5
}
