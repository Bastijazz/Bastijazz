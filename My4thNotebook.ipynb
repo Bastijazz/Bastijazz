{
 "cells": [
  {
   "cell_type": "markdown",
   "id": "a33b82c7-c828-4527-ab4e-58219d258a76",
   "metadata": {},
   "source": [
    "# While"
   ]
  },
  {
   "cell_type": "code",
   "execution_count": 2,
   "id": "45feda08-f09d-4554-897b-fb43d383aee0",
   "metadata": {},
   "outputs": [
    {
     "name": "stdout",
     "output_type": "stream",
     "text": [
      "1\n",
      "2\n",
      "3\n",
      "4\n",
      "5\n"
     ]
    }
   ],
   "source": [
    "count = 1\n",
    "while count <= 5:\n",
    "    print(count)\n",
    "    count +=1"
   ]
  },
  {
   "cell_type": "code",
   "execution_count": 12,
   "id": "33537f99-ef4e-4d91-98cc-7cdf1e3bc61e",
   "metadata": {},
   "outputs": [
    {
     "name": "stdout",
     "output_type": "stream",
     "text": [
      "Current count: 1\n",
      "Even number: 2\n",
      "This is a pass statement.\n",
      "Even number: 4\n",
      "Current count: 5\n",
      "Even number: 6\n",
      "Breaking out of the loop at count 7.\n",
      "Loop finished.\n"
     ]
    }
   ],
   "source": [
    "count = 0\n",
    "while count < 10:\n",
    "     count += 1\n",
    " # Using pass statement\n",
    "     if count == 3:\n",
    "         pass # do nothing and continue to the next iteration\n",
    "         print(\"This is a pass statement.\")\n",
    "         continue # skip the rest of the code in this iteration and go to the next\n",
    " # Using continue statement\n",
    "     if count % 2 == 0:\n",
    "         print(f\"Even number: {count}\")\n",
    "         continue # skip the rest of the code in this iteration and go to the next\n",
    " # Using break statement\n",
    "     if count == 7:\n",
    "         print(\"Breaking out of the loop at count 7.\")\n",
    "         break # exit the loop\n",
    "     print(f\"Current count: {count}\")\n",
    "# Outside the loop\n",
    "print(\"Loop finished.\")   "
   ]
  },
  {
   "cell_type": "markdown",
   "id": "403a777f-6723-4420-8b96-356ebcdef8a6",
   "metadata": {},
   "source": [
    "# IF statement"
   ]
  },
  {
   "cell_type": "code",
   "execution_count": 19,
   "id": "cc98f097-64d7-445c-8b4b-db7d1f3aedfd",
   "metadata": {},
   "outputs": [
    {
     "ename": "IndentationError",
     "evalue": "expected an indented block (2342389918.py, line 3)",
     "output_type": "error",
     "traceback": [
      "\u001b[1;36m  Cell \u001b[1;32mIn[19], line 3\u001b[1;36m\u001b[0m\n\u001b[1;33m    else:\u001b[0m\n\u001b[1;37m    ^\u001b[0m\n\u001b[1;31mIndentationError\u001b[0m\u001b[1;31m:\u001b[0m expected an indented block\n"
     ]
    }
   ],
   "source": [
    "if condition:\n",
    "    #code will be executed if true\n",
    "else:\n",
    "    #Code will be executed if false\n",
    "    "
   ]
  },
  {
   "cell_type": "code",
   "execution_count": 6,
   "id": "c036753e-1e62-406a-859a-bbee98f09bca",
   "metadata": {},
   "outputs": [
    {
     "name": "stdout",
     "output_type": "stream",
     "text": [
      "x is greater than 5\n"
     ]
    }
   ],
   "source": [
    "x = 10\n",
    "if x > 5:\n",
    "    print(\"x is greater than 5\")\n",
    "else:\n",
    "    print(\"x is smaller than 5\")"
   ]
  },
  {
   "cell_type": "markdown",
   "id": "f58094ee-fcf0-4644-bee4-f959a3b6e4a1",
   "metadata": {},
   "source": [
    "## Import"
   ]
  },
  {
   "cell_type": "code",
   "execution_count": 14,
   "id": "eb520f7a-1e33-413a-8fc9-fdc2282a30ff",
   "metadata": {},
   "outputs": [
    {
     "name": "stdin",
     "output_type": "stream",
     "text": [
      "Level : 2\n",
      "Guess: 3\n"
     ]
    },
    {
     "name": "stdout",
     "output_type": "stream",
     "text": [
      "Too large!\n"
     ]
    },
    {
     "name": "stdin",
     "output_type": "stream",
     "text": [
      "Guess: 1\n"
     ]
    },
    {
     "name": "stdout",
     "output_type": "stream",
     "text": [
      "Too small\n"
     ]
    },
    {
     "name": "stdin",
     "output_type": "stream",
     "text": [
      "Guess: 2\n"
     ]
    },
    {
     "name": "stdout",
     "output_type": "stream",
     "text": [
      "Correct\n"
     ]
    }
   ],
   "source": [
    "import random\n",
    "while True:\n",
    "    try:\n",
    "            lvl_rnd_num = int(input('Level :'))\n",
    "            if lvl_rnd_num > 0:\n",
    "                break\n",
    "    except:\n",
    "        continue\n",
    "rnd_num = random.randint(1, lvl_rnd_num)\n",
    "\n",
    "while True:\n",
    "    try:\n",
    "        guess_num = int(input('Guess:'))\n",
    "        if guess_num < rnd_num:\n",
    "            print(\"Too small\")\n",
    "            continue\n",
    "        if guess_num > rnd_num:\n",
    "            print(\"Too large!\")\n",
    "            continue\n",
    "        else:\n",
    "            print(\"Correct\")\n",
    "            break\n",
    "    except:\n",
    "        pass\n",
    "    "
   ]
  },
  {
   "cell_type": "code",
   "execution_count": 17,
   "id": "246472c7-4e5f-4a77-bec0-cac3d02dd593",
   "metadata": {},
   "outputs": [
    {
     "name": "stdin",
     "output_type": "stream",
     "text": [
      "camelCase: Basti\n"
     ]
    },
    {
     "name": "stdout",
     "output_type": "stream",
     "text": [
      "snake_case: _basti\n"
     ]
    }
   ],
   "source": [
    "def main():\n",
    "    askCamel = input(\"camelCase:\")\n",
    "    snake = convert(askCamel)\n",
    "    print (f\"snake_case:\",snake)\n",
    "def convert(var_name):\n",
    "    var_name_splits = [char for char in var_name]\n",
    "    var_snake = \"\"\n",
    "\n",
    "    for var_name_split in var_name_splits:\n",
    "        if var_name_split.isupper():\n",
    "            var_snake = var_snake + \"_\" + var_name_split.lower()\n",
    "        else:\n",
    "            var_snake = var_snake + var_name_split\n",
    "    return (var_snake)\n",
    "if __name__ == \"__main__\":\n",
    " main()\n"
   ]
  },
  {
   "cell_type": "markdown",
   "id": "d0ec3f44-313e-4bb8-a18b-25bae54f01ae",
   "metadata": {},
   "source": [
    "# For"
   ]
  },
  {
   "cell_type": "code",
   "execution_count": null,
   "id": "f31f0a82-a062-424c-bf42-7801c3533731",
   "metadata": {},
   "outputs": [],
   "source": [
    "for variable in sequence:\n",
    "    # code to be executed ffor each element in the sequence"
   ]
  },
  {
   "cell_type": "markdown",
   "id": "515c6790-ab1f-44fb-9aba-624c74f88112",
   "metadata": {},
   "source": [
    "# First Example"
   ]
  },
  {
   "cell_type": "code",
   "execution_count": 20,
   "id": "a952ac10-be5b-4388-84b2-9f245536f408",
   "metadata": {},
   "outputs": [
    {
     "name": "stdout",
     "output_type": "stream",
     "text": [
      "apple\n",
      "banana\n",
      "cherry\n"
     ]
    }
   ],
   "source": [
    "fruits = ['apple', 'banana', 'cherry']\n",
    "for fruit in fruits:\n",
    " print(fruit)\n"
   ]
  },
  {
   "cell_type": "markdown",
   "id": "9bbdd953-4022-4d4c-b748-fae7ff9bfe73",
   "metadata": {},
   "source": [
    "# Second example, iterating over a range"
   ]
  },
  {
   "cell_type": "code",
   "execution_count": 21,
   "id": "d623b4a3-7c6e-4b00-8cf7-b20ca43933e4",
   "metadata": {},
   "outputs": [
    {
     "name": "stdout",
     "output_type": "stream",
     "text": [
      "0\n",
      "1\n",
      "2\n",
      "3\n",
      "4\n"
     ]
    }
   ],
   "source": [
    "for i in range(5):\n",
    "    print(i)\n"
   ]
  },
  {
   "cell_type": "markdown",
   "id": "5a163c3a-6a32-4496-9423-a0ddc7020321",
   "metadata": {},
   "source": [
    "# Third Example Iterating over a string"
   ]
  },
  {
   "cell_type": "code",
   "execution_count": 24,
   "id": "67d97b26-5cb4-42bd-abfe-3c1639124483",
   "metadata": {},
   "outputs": [
    {
     "name": "stdout",
     "output_type": "stream",
     "text": [
      "H\n",
      "e\n",
      "l\n",
      "l\n",
      "o\n"
     ]
    }
   ],
   "source": [
    "message = \"Hello\"\n",
    "for char in message:\n",
    "    print(char)\n"
   ]
  },
  {
   "cell_type": "markdown",
   "id": "006deef2-8f94-419a-8a14-e18589a1b855",
   "metadata": {},
   "source": [
    "# Fourth example: Using enumerate for index and value"
   ]
  },
  {
   "cell_type": "code",
   "execution_count": 25,
   "id": "4ee7d9ee-0545-486b-be77-acd29d9f4c94",
   "metadata": {},
   "outputs": [
    {
     "name": "stdout",
     "output_type": "stream",
     "text": [
      "Index 0: apple\n",
      "Index 1: banana\n",
      "Index 2: cherry\n"
     ]
    }
   ],
   "source": [
    "fruits = ['apple', 'banana', 'cherry']\n",
    "for index, fruit in enumerate(fruits):\n",
    " print(f\"Index {index}: {fruit}\")"
   ]
  }
 ],
 "metadata": {
  "kernelspec": {
   "display_name": "Python 3 (ipykernel)",
   "language": "python",
   "name": "python3"
  },
  "language_info": {
   "codemirror_mode": {
    "name": "ipython",
    "version": 3
   },
   "file_extension": ".py",
   "mimetype": "text/x-python",
   "name": "python",
   "nbconvert_exporter": "python",
   "pygments_lexer": "ipython3",
   "version": "3.9.12"
  }
 },
 "nbformat": 4,
 "nbformat_minor": 5
}
